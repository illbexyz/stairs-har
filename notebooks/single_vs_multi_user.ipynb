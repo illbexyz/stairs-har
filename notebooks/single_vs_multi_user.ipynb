{
 "cells": [
  {
   "cell_type": "code",
   "execution_count": 13,
   "metadata": {},
   "outputs": [],
   "source": [
    "import os\n",
    "import sys\n",
    "nb_dir = os.path.split(os.getcwd())[0]\n",
    "if nb_dir not in sys.path:\n",
    "    sys.path.append(nb_dir)"
   ]
  },
  {
   "cell_type": "code",
   "execution_count": 14,
   "metadata": {},
   "outputs": [],
   "source": [
    "import numpy as np\n",
    "from sklearn.model_selection import train_test_split\n",
    "\n",
    "from core.rnn import create_model, train, load_data\n",
    "\n",
    "LABELS = [\"walking\", \"stairs_down\", \"stairs_up\", \"sitting\", \"standing\", \"laying\"]"
   ]
  },
  {
   "cell_type": "code",
   "execution_count": 16,
   "metadata": {},
   "outputs": [
    {
     "name": "stdout",
     "output_type": "stream",
     "text": [
      "_________________________________________________________________\n",
      "Layer (type)                 Output Shape              Param #   \n",
      "=================================================================\n",
      "gru_4 (GRU)                  (None, 64)                13056     \n",
      "_________________________________________________________________\n",
      "dense_7 (Dense)              (None, 32)                2080      \n",
      "_________________________________________________________________\n",
      "dense_8 (Dense)              (None, 6)                 198       \n",
      "=================================================================\n",
      "Total params: 15,334\n",
      "Trainable params: 15,334\n",
      "Non-trainable params: 0\n",
      "_________________________________________________________________\n",
      "Train on 327 samples, validate on 82 samples\n",
      "Epoch 1/50\n",
      "327/327 [==============================] - 4s 13ms/step - loss: 1.7606 - acc: 0.2661 - val_loss: 1.7034 - val_acc: 0.4146\n",
      "Epoch 2/50\n",
      "327/327 [==============================] - 3s 11ms/step - loss: 1.6391 - acc: 0.4373 - val_loss: 1.5469 - val_acc: 0.3659\n",
      "Epoch 3/50\n",
      "327/327 [==============================] - 3s 11ms/step - loss: 1.4198 - acc: 0.3945 - val_loss: 1.4129 - val_acc: 0.3659\n",
      "Epoch 4/50\n",
      "327/327 [==============================] - 4s 11ms/step - loss: 1.3230 - acc: 0.4098 - val_loss: 1.3117 - val_acc: 0.3659\n",
      "Epoch 5/50\n",
      "327/327 [==============================] - 4s 11ms/step - loss: 1.2128 - acc: 0.4251 - val_loss: 1.1948 - val_acc: 0.4024\n",
      "Epoch 6/50\n",
      "327/327 [==============================] - 3s 10ms/step - loss: 1.2860 - acc: 0.4893 - val_loss: 1.6278 - val_acc: 0.5854\n",
      "Epoch 7/50\n",
      "327/327 [==============================] - 3s 11ms/step - loss: 1.6403 - acc: 0.5352 - val_loss: 1.5465 - val_acc: 0.5000\n",
      "Epoch 8/50\n",
      "327/327 [==============================] - 3s 10ms/step - loss: 2.1247 - acc: 0.5138 - val_loss: 2.0819 - val_acc: 0.6341\n",
      "Epoch 9/50\n",
      "327/327 [==============================] - 4s 11ms/step - loss: 1.5937 - acc: 0.5291 - val_loss: 1.0726 - val_acc: 0.5976\n",
      "Epoch 10/50\n",
      "327/327 [==============================] - 4s 12ms/step - loss: 0.9861 - acc: 0.5107 - val_loss: 0.7750 - val_acc: 0.6829\n",
      "Epoch 11/50\n",
      "327/327 [==============================] - 4s 12ms/step - loss: 0.7737 - acc: 0.6942 - val_loss: 0.7084 - val_acc: 0.8049\n",
      "Epoch 12/50\n",
      "327/327 [==============================] - 4s 11ms/step - loss: 0.7857 - acc: 0.6758 - val_loss: 0.8446 - val_acc: 0.6098\n",
      "Epoch 13/50\n",
      "327/327 [==============================] - 4s 11ms/step - loss: 0.7367 - acc: 0.7125 - val_loss: 0.6069 - val_acc: 0.7683\n",
      "Epoch 14/50\n",
      "327/327 [==============================] - 4s 11ms/step - loss: 0.5812 - acc: 0.7768 - val_loss: 0.5723 - val_acc: 0.7561\n",
      "Epoch 15/50\n",
      "327/327 [==============================] - 4s 11ms/step - loss: 0.6099 - acc: 0.8012 - val_loss: 0.6671 - val_acc: 0.7439\n",
      "Epoch 16/50\n",
      "327/327 [==============================] - 4s 11ms/step - loss: 0.6393 - acc: 0.7615 - val_loss: 0.9946 - val_acc: 0.4390\n",
      "Epoch 17/50\n",
      "327/327 [==============================] - 4s 11ms/step - loss: 0.8408 - acc: 0.6024 - val_loss: 0.8919 - val_acc: 0.5488\n",
      "Epoch 18/50\n",
      "327/327 [==============================] - 4s 11ms/step - loss: 0.9787 - acc: 0.5291 - val_loss: 0.9806 - val_acc: 0.4390\n",
      "Epoch 19/50\n",
      "327/327 [==============================] - 4s 11ms/step - loss: 0.9703 - acc: 0.5352 - val_loss: 0.7963 - val_acc: 0.6585\n",
      "Epoch 20/50\n",
      "327/327 [==============================] - 4s 11ms/step - loss: 0.7325 - acc: 0.7217 - val_loss: 0.6303 - val_acc: 0.7561\n",
      "Epoch 21/50\n",
      "327/327 [==============================] - 4s 11ms/step - loss: 0.6357 - acc: 0.7676 - val_loss: 0.5929 - val_acc: 0.8415\n",
      "Epoch 22/50\n",
      "327/327 [==============================] - 4s 11ms/step - loss: 0.7069 - acc: 0.7034 - val_loss: 0.6661 - val_acc: 0.7683\n",
      "Epoch 23/50\n",
      "327/327 [==============================] - 4s 11ms/step - loss: 1.1929 - acc: 0.4771 - val_loss: 0.9203 - val_acc: 0.6220\n",
      "Epoch 24/50\n",
      "327/327 [==============================] - 4s 12ms/step - loss: 0.8616 - acc: 0.5963 - val_loss: 0.7315 - val_acc: 0.6463\n",
      "Epoch 25/50\n",
      "327/327 [==============================] - 4s 11ms/step - loss: 0.6619 - acc: 0.7492 - val_loss: 0.5843 - val_acc: 0.7561\n",
      "Epoch 26/50\n",
      "327/327 [==============================] - 4s 11ms/step - loss: 0.5788 - acc: 0.7737 - val_loss: 0.5342 - val_acc: 0.8293\n",
      "Epoch 27/50\n",
      "327/327 [==============================] - 4s 11ms/step - loss: 0.5256 - acc: 0.8165 - val_loss: 0.4903 - val_acc: 0.8537\n",
      "Epoch 28/50\n",
      "327/327 [==============================] - 4s 11ms/step - loss: 0.4835 - acc: 0.8471 - val_loss: 0.5379 - val_acc: 0.7683\n",
      "Epoch 29/50\n",
      "327/327 [==============================] - 4s 12ms/step - loss: 0.5036 - acc: 0.8104 - val_loss: 0.4352 - val_acc: 0.9024\n",
      "Epoch 30/50\n",
      "327/327 [==============================] - 4s 11ms/step - loss: 0.5723 - acc: 0.7370 - val_loss: 0.5109 - val_acc: 0.7805\n",
      "Epoch 31/50\n",
      "327/327 [==============================] - 4s 11ms/step - loss: 0.4269 - acc: 0.8899 - val_loss: 0.4133 - val_acc: 0.8659\n",
      "Epoch 32/50\n",
      "327/327 [==============================] - 4s 11ms/step - loss: 0.4023 - acc: 0.8838 - val_loss: 0.3884 - val_acc: 0.8171\n",
      "Epoch 33/50\n",
      "327/327 [==============================] - 4s 11ms/step - loss: 0.4433 - acc: 0.8012 - val_loss: 0.5449 - val_acc: 0.6951\n",
      "Epoch 34/50\n",
      "327/327 [==============================] - 4s 11ms/step - loss: 0.5271 - acc: 0.7462 - val_loss: 0.4744 - val_acc: 0.7195\n",
      "Epoch 35/50\n",
      "327/327 [==============================] - 4s 11ms/step - loss: 0.4307 - acc: 0.8287 - val_loss: 0.3309 - val_acc: 0.9512\n",
      "Epoch 36/50\n",
      "327/327 [==============================] - 4s 11ms/step - loss: 0.3722 - acc: 0.8869 - val_loss: 0.4179 - val_acc: 0.8171\n",
      "Epoch 37/50\n",
      "327/327 [==============================] - 4s 11ms/step - loss: 0.3698 - acc: 0.8563 - val_loss: 0.5986 - val_acc: 0.7195\n",
      "Epoch 38/50\n",
      "327/327 [==============================] - 4s 12ms/step - loss: 0.5547 - acc: 0.7278 - val_loss: 0.6594 - val_acc: 0.6463\n",
      "Epoch 39/50\n",
      "327/327 [==============================] - 4s 11ms/step - loss: 0.3782 - acc: 0.8410 - val_loss: 0.2942 - val_acc: 0.9512\n",
      "Epoch 40/50\n",
      "327/327 [==============================] - 4s 11ms/step - loss: 0.3210 - acc: 0.8869 - val_loss: 0.4092 - val_acc: 0.7927\n",
      "Epoch 41/50\n",
      "327/327 [==============================] - 4s 11ms/step - loss: 0.3859 - acc: 0.8532 - val_loss: 0.3101 - val_acc: 0.9146\n",
      "Epoch 42/50\n",
      "327/327 [==============================] - 4s 11ms/step - loss: 0.4246 - acc: 0.7951 - val_loss: 0.4010 - val_acc: 0.7805\n",
      "Epoch 43/50\n",
      "327/327 [==============================] - 4s 11ms/step - loss: 0.3106 - acc: 0.8930 - val_loss: 0.2510 - val_acc: 0.9634\n",
      "Epoch 44/50\n",
      "327/327 [==============================] - 4s 11ms/step - loss: 0.3139 - acc: 0.8685 - val_loss: 0.2674 - val_acc: 0.9634\n",
      "Epoch 45/50\n",
      "327/327 [==============================] - 4s 11ms/step - loss: 0.2726 - acc: 0.9235 - val_loss: 0.2809 - val_acc: 0.9268\n",
      "Epoch 46/50\n",
      "327/327 [==============================] - 4s 12ms/step - loss: 0.3407 - acc: 0.8654 - val_loss: 0.4148 - val_acc: 0.7683\n",
      "Epoch 47/50\n",
      "327/327 [==============================] - 4s 11ms/step - loss: 0.2972 - acc: 0.8991 - val_loss: 0.2548 - val_acc: 0.9512\n",
      "Epoch 48/50\n",
      "327/327 [==============================] - 4s 11ms/step - loss: 0.3228 - acc: 0.8593 - val_loss: 0.3344 - val_acc: 0.8537\n",
      "Epoch 49/50\n",
      "327/327 [==============================] - 4s 12ms/step - loss: 0.2547 - acc: 0.9266 - val_loss: 0.2700 - val_acc: 0.9390\n",
      "Epoch 50/50\n",
      "327/327 [==============================] - 4s 11ms/step - loss: 0.2007 - acc: 0.9694 - val_loss: 0.2606 - val_acc: 0.9024\n"
     ]
    },
    {
     "data": {
      "image/png": "[encoded data removed]",
      "text/plain": [
       "<Figure size 432x288 with 1 Axes>"
      ]
     },
     "metadata": {
      "needs_background": "light"
     },
     "output_type": "display_data"
    }
   ],
   "source": [
    "model = create_model(128, LABELS)\n",
    "\n",
    "x, y = load_data(\"../data/uci_train_6_labels_single.csv\", 128, LABELS)\n",
    "\n",
    "x_train, x_test, y_train, y_test = train_test_split(\n",
    "    x, y, test_size=0.2, random_state=np.random.randint(0, 42)\n",
    ")\n",
    "\n",
    "train(\n",
    "    model,\n",
    "    x_train,\n",
    "    y_train,\n",
    "    x_test,\n",
    "    y_test,\n",
    "    epochs=50,\n",
    "    batch_size=16\n",
    ")"
   ]
  },
  {
   "cell_type": "code",
   "execution_count": 17,
   "metadata": {},
   "outputs": [
    {
     "name": "stdout",
     "output_type": "stream",
     "text": [
      "2947/2947 [==============================] - 0s 150us/step\n",
      "\n",
      "Test Accuracy: 0.4811672892738772\n"
     ]
    }
   ],
   "source": [
    "x_real_test, y_real_test = load_data(\"../data/uci_test_6_labels.csv\", 128, LABELS)\n",
    "\n",
    "[_, accuracy] = model.evaluate(x_real_test, y_real_test, 512)\n",
    "\n",
    "print(f\"\\nTest Accuracy: {accuracy}\")"
   ]
  }
 ],
 "metadata": {
  "kernelspec": {
   "display_name": "Python 3",
   "language": "python",
   "name": "python3"
  },
  "language_info": {
   "codemirror_mode": {
    "name": "ipython",
    "version": 3
   },
   "file_extension": ".py",
   "mimetype": "text/x-python",
   "name": "python",
   "nbconvert_exporter": "python",
   "pygments_lexer": "ipython3",
   "version": "3.6.6"
  }
 },
 "nbformat": 4,
 "nbformat_minor": 2
}
