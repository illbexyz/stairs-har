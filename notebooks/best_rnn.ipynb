{
 "cells": [
  {
   "cell_type": "code",
   "execution_count": 19,
   "metadata": {},
   "outputs": [],
   "source": [
    "import os\n",
    "import sys\n",
    "nb_dir = os.path.split(os.getcwd())[0]\n",
    "if nb_dir not in sys.path:\n",
    "    sys.path.append(nb_dir)"
   ]
  },
  {
   "cell_type": "code",
   "execution_count": 20,
   "metadata": {},
   "outputs": [],
   "source": [
    "from keras.models import load_model\n",
    "from core.rnn import load_data, train"
   ]
  },
  {
   "cell_type": "code",
   "execution_count": 30,
   "metadata": {},
   "outputs": [
    {
     "name": "stdout",
     "output_type": "stream",
     "text": [
      "2947/2947 [==============================] - 1s 363us/step\n",
      "\n",
      "Test Accuracy: 0.9049881220592011\n"
     ]
    }
   ],
   "source": [
    "sequence_length = 128\n",
    "labels = [\"walking\", \"stairs_down\", \"stairs_up\", \"sitting\", \"standing\", \"laying\"]\n",
    "\n",
    "model = load_model(\"../models/uci-gru128-128.h5\")\n",
    "\n",
    "x_test, y_test = load_data(\"../data/uci_test_6.csv\", sequence_length, labels)\n",
    "\n",
    "[_, accuracy] = model.evaluate(x_test, y_test, 512)\n",
    "\n",
    "print(f\"\\nTest Accuracy: {accuracy}\")"
   ]
  }
 ],
 "metadata": {
  "kernelspec": {
   "display_name": "Python 3",
   "language": "python",
   "name": "python3"
  },
  "language_info": {
   "codemirror_mode": {
    "name": "ipython",
    "version": 3
   },
   "file_extension": ".py",
   "mimetype": "text/x-python",
   "name": "python",
   "nbconvert_exporter": "python",
   "pygments_lexer": "ipython3",
   "version": "3.6.6"
  }
 },
 "nbformat": 4,
 "nbformat_minor": 2
}
