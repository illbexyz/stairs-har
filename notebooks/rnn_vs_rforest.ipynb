{
 "cells": [
  {
   "cell_type": "markdown",
   "metadata": {},
   "source": [
    "# Recurrent Neural Networks vs Random Forest"
   ]
  },
  {
   "cell_type": "code",
   "execution_count": 7,
   "metadata": {},
   "outputs": [],
   "source": [
    "import os\n",
    "import sys\n",
    "nb_dir = os.path.split(os.getcwd())[0]\n",
    "if nb_dir not in sys.path:\n",
    "    sys.path.append(nb_dir)"
   ]
  },
  {
   "cell_type": "code",
   "execution_count": 8,
   "metadata": {},
   "outputs": [],
   "source": [
    "import numpy as np\n",
    "import matplotlib.pyplot as plt\n",
    "from sklearn.ensemble import RandomForestClassifier\n",
    "from keras.models import load_model\n",
    "\n",
    "from core.random_forest import load_data as load_data_rf, train_random_forest, eval_random_forest\n",
    "from core.rnn import create_model, load_data as load_data_rnn, train as train_rnn\n",
    "\n",
    "LABELS_4 = [\"walking\", \"stairs_down\", \"stairs_up\", \"other\"]\n",
    "LABELS_6 = [\"walking\", \"stairs_down\", \"stairs_up\", \"sitting\", \"standing\", \"laying\"]"
   ]
  },
  {
   "cell_type": "markdown",
   "metadata": {
    "collapsed": true
   },
   "source": [
    "## Random Forest"
   ]
  },
  {
   "cell_type": "code",
   "execution_count": 9,
   "metadata": {},
   "outputs": [],
   "source": [
    "def train_rf(train_path, test_path):\n",
    "    x_train, y_train = load_data_rf(train_path)\n",
    "    x_test, y_test = load_data_rf(test_path)\n",
    "    \n",
    "    model = train_random_forest(x_train, y_train)\n",
    "    score = eval_random_forest(model, x_test, y_test)\n",
    "    \n",
    "    return score"
   ]
  },
  {
   "cell_type": "markdown",
   "metadata": {},
   "source": [
    "### 6 Labels (walking, stairs_down, stairs_up, sitting, standing, laying)"
   ]
  },
  {
   "cell_type": "code",
   "execution_count": 10,
   "metadata": {},
   "outputs": [
    {
     "name": "stdout",
     "output_type": "stream",
     "text": [
      "Test Accuracy: 0.7567017305734646\n"
     ]
    }
   ],
   "source": [
    "rf_6_accuracy = train_rf(\"../data/uci_train_6.csv\", \"../data/uci_test_6.csv\")\n",
    "\n",
    "print(f\"Test Accuracy: {rf_6_accuracy}\")"
   ]
  },
  {
   "cell_type": "markdown",
   "metadata": {},
   "source": [
    "### 4 Labels (walking, stairs_down, stairs_up, other)"
   ]
  },
  {
   "cell_type": "code",
   "execution_count": 11,
   "metadata": {},
   "outputs": [
    {
     "name": "stdout",
     "output_type": "stream",
     "text": [
      "Test Accuracy: 0.831353919239905\n"
     ]
    }
   ],
   "source": [
    "rf_4_accuracy = train_rf(\"../data/uci_train_4.csv\", \"../data/uci_test_4.csv\")\n",
    "\n",
    "print(f\"Test Accuracy: {rf_4_accuracy}\")"
   ]
  },
  {
   "cell_type": "markdown",
   "metadata": {},
   "source": [
    "## Recurrent Neural Network"
   ]
  },
  {
   "cell_type": "markdown",
   "metadata": {},
   "source": [
    "### 6 Labels (walking, stairs_down, stairs_up, sitting, standing, laying)"
   ]
  },
  {
   "cell_type": "code",
   "execution_count": 12,
   "metadata": {},
   "outputs": [
    {
     "name": "stdout",
     "output_type": "stream",
     "text": [
      "2947/2947 [==============================] - 1s 239us/step\n",
      "Test Accuracy: 0.9056667796142391\n"
     ]
    }
   ],
   "source": [
    "rnn_model_6 = load_model(\"../models/uci6-128.h5\")\n",
    "\n",
    "x_test, y_test = load_data_rnn(\"../data/uci_test_6.csv\", 128, LABELS_6)\n",
    "\n",
    "[_, rnn_6_accuracy] = rnn_model_6.evaluate(x_test, y_test, 512)\n",
    "\n",
    "print(f\"Test Accuracy: {rnn_6_accuracy}\")"
   ]
  },
  {
   "cell_type": "markdown",
   "metadata": {},
   "source": [
    "### 4 Labels (walking, stairs_down, stairs_up, other)"
   ]
  },
  {
   "cell_type": "code",
   "execution_count": 13,
   "metadata": {},
   "outputs": [
    {
     "name": "stdout",
     "output_type": "stream",
     "text": [
      "2947/2947 [==============================] - 1s 187us/step\n",
      "Test Accuracy: 0.9545300297305104\n"
     ]
    }
   ],
   "source": [
    "rnn_model_4 = load_model(\"../models/uci4-128.h5\")\n",
    "\n",
    "x_test, y_test = load_data_rnn(\"../data/uci_test_4.csv\", 128, LABELS_4)\n",
    "\n",
    "[_, rnn_4_accuracy] = rnn_model_4.evaluate(x_test, y_test, 512)\n",
    "\n",
    "print(f\"Test Accuracy: {rnn_4_accuracy}\")"
   ]
  },
  {
   "cell_type": "markdown",
   "metadata": {},
   "source": [
    "## Conclusions"
   ]
  },
  {
   "cell_type": "code",
   "execution_count": 16,
   "metadata": {},
   "outputs": [
    {
     "data": {
      "image/png": "[encoded data removed]",
      "text/plain": [
       "<Figure size 432x288 with 1 Axes>"
      ]
     },
     "metadata": {
      "needs_background": "light"
     },
     "output_type": "display_data"
    }
   ],
   "source": [
    "fig, ax = plt.subplots()\n",
    "\n",
    "models = ('Random Forest, 6 Labels', 'Random Forest, 4 Labels', 'RNN, 6 Labels', 'RNN, 4 Labels')\n",
    "y_pos = np.arange(len(models))\n",
    "performance = np.array([rf_6_accuracy, rf_4_accuracy, rnn_6_accuracy, rnn_4_accuracy])\n",
    "\n",
    "ax.barh(y_pos, performance, align='center')\n",
    "ax.set_yticks(y_pos)\n",
    "ax.set_yticklabels(models)\n",
    "ax.invert_yaxis()\n",
    "ax.set_xlabel('Accuracy')\n",
    "ax.set_title('RNN vs Random Forest')\n",
    "\n",
    "plt.show()"
   ]
  }
 ],
 "metadata": {
  "kernelspec": {
   "display_name": "Python 3",
   "language": "python",
   "name": "python3"
  },
  "language_info": {
   "codemirror_mode": {
    "name": "ipython",
    "version": 3
   },
   "file_extension": ".py",
   "mimetype": "text/x-python",
   "name": "python",
   "nbconvert_exporter": "python",
   "pygments_lexer": "ipython3",
   "version": "3.6.6"
  }
 },
 "nbformat": 4,
 "nbformat_minor": 1
}
