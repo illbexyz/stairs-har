{
 "cells": [
  {
   "cell_type": "markdown",
   "metadata": {},
   "source": [
    "# Single user training\n",
    "\n",
    "In this notebook we evaluate how a model performs when trained on a single user data."
   ]
  },
  {
   "cell_type": "code",
   "execution_count": 1,
   "metadata": {},
   "outputs": [],
   "source": [
    "import os\n",
    "import sys\n",
    "nb_dir = os.path.split(os.getcwd())[0]\n",
    "if nb_dir not in sys.path:\n",
    "    sys.path.append(nb_dir)"
   ]
  },
  {
   "cell_type": "code",
   "execution_count": 2,
   "metadata": {},
   "outputs": [
    {
     "name": "stderr",
     "output_type": "stream",
     "text": [
      "Using TensorFlow backend.\n"
     ]
    }
   ],
   "source": [
    "import numpy as np\n",
    "from sklearn.model_selection import train_test_split\n",
    "\n",
    "from core.rnn import create_model, train, load_data\n",
    "\n",
    "LABELS = [\"walking\", \"stairs_down\", \"stairs_up\", \"sitting\", \"standing\", \"laying\"]"
   ]
  },
  {
   "cell_type": "code",
   "execution_count": 5,
   "metadata": {},
   "outputs": [
    {
     "name": "stdout",
     "output_type": "stream",
     "text": [
      "_________________________________________________________________\n",
      "Layer (type)                 Output Shape              Param #   \n",
      "=================================================================\n",
      "gru_2 (GRU)                  (None, 128)               50688     \n",
      "_________________________________________________________________\n",
      "dense_3 (Dense)              (None, 32)                4128      \n",
      "_________________________________________________________________\n",
      "dense_4 (Dense)              (None, 6)                 198       \n",
      "=================================================================\n",
      "Total params: 55,014\n",
      "Trainable params: 55,014\n",
      "Non-trainable params: 0\n",
      "_________________________________________________________________\n",
      "Train on 327 samples, validate on 82 samples\n",
      "Epoch 1/50\n",
      "327/327 [==============================] - 4s 13ms/step - loss: 1.7443 - acc: 0.2508 - val_loss: 1.6874 - val_acc: 0.2927\n",
      "Epoch 2/50\n",
      "327/327 [==============================] - 4s 11ms/step - loss: 1.5774 - acc: 0.3700 - val_loss: 2.2297 - val_acc: 0.3171\n",
      "Epoch 3/50\n",
      "327/327 [==============================] - 4s 11ms/step - loss: 1.6752 - acc: 0.3670 - val_loss: 1.3742 - val_acc: 0.3171\n",
      "Epoch 4/50\n",
      "327/327 [==============================] - 4s 12ms/step - loss: 1.3438 - acc: 0.3731 - val_loss: 1.3152 - val_acc: 0.3780\n",
      "Epoch 5/50\n",
      "327/327 [==============================] - 3s 10ms/step - loss: 1.3118 - acc: 0.4006 - val_loss: 1.2817 - val_acc: 0.3780\n",
      "Epoch 6/50\n",
      "327/327 [==============================] - 3s 10ms/step - loss: 1.2924 - acc: 0.4190 - val_loss: 1.2615 - val_acc: 0.4268\n",
      "Epoch 7/50\n",
      "327/327 [==============================] - 3s 10ms/step - loss: 1.3113 - acc: 0.4281 - val_loss: 2.1506 - val_acc: 0.4146\n",
      "Epoch 8/50\n",
      "327/327 [==============================] - 3s 10ms/step - loss: 2.8600 - acc: 0.3945 - val_loss: 3.9816 - val_acc: 0.3171\n",
      "Epoch 9/50\n",
      "327/327 [==============================] - 3s 10ms/step - loss: 4.1954 - acc: 0.3792 - val_loss: 3.9545 - val_acc: 0.3171\n",
      "Epoch 10/50\n",
      "327/327 [==============================] - 3s 10ms/step - loss: 4.8877 - acc: 0.2997 - val_loss: 2.1880 - val_acc: 0.3780\n",
      "Epoch 11/50\n",
      "327/327 [==============================] - 3s 10ms/step - loss: 1.4929 - acc: 0.3211 - val_loss: 1.4856 - val_acc: 0.2805\n",
      "Epoch 12/50\n",
      "327/327 [==============================] - 3s 10ms/step - loss: 1.4082 - acc: 0.3823 - val_loss: 1.3121 - val_acc: 0.4024\n",
      "Epoch 13/50\n",
      "327/327 [==============================] - 4s 11ms/step - loss: 1.2674 - acc: 0.4251 - val_loss: 1.2044 - val_acc: 0.5000\n",
      "Epoch 14/50\n",
      "327/327 [==============================] - 3s 10ms/step - loss: 1.2210 - acc: 0.4343 - val_loss: 1.1202 - val_acc: 0.5610\n",
      "Epoch 15/50\n",
      "327/327 [==============================] - 3s 10ms/step - loss: 1.3711 - acc: 0.4801 - val_loss: 2.0086 - val_acc: 0.5854\n",
      "Epoch 16/50\n",
      "327/327 [==============================] - 3s 10ms/step - loss: 1.5704 - acc: 0.5107 - val_loss: 1.9438 - val_acc: 0.5000\n",
      "Epoch 17/50\n",
      "327/327 [==============================] - 3s 10ms/step - loss: 1.8502 - acc: 0.5443 - val_loss: 3.7734 - val_acc: 0.4024\n",
      "Epoch 18/50\n",
      "327/327 [==============================] - 3s 10ms/step - loss: 3.2386 - acc: 0.4618 - val_loss: 4.0444 - val_acc: 0.2561\n",
      "Epoch 19/50\n",
      "327/327 [==============================] - 3s 10ms/step - loss: 3.2940 - acc: 0.3700 - val_loss: 3.1270 - val_acc: 0.3780\n",
      "Epoch 20/50\n",
      "327/327 [==============================] - 3s 10ms/step - loss: 1.7863 - acc: 0.4312 - val_loss: 3.0601 - val_acc: 0.4146\n",
      "Epoch 21/50\n",
      "327/327 [==============================] - 3s 10ms/step - loss: 2.1244 - acc: 0.5382 - val_loss: 3.0114 - val_acc: 0.3902\n",
      "Epoch 22/50\n",
      "327/327 [==============================] - 3s 10ms/step - loss: 1.4307 - acc: 0.3761 - val_loss: 1.1820 - val_acc: 0.4146\n",
      "Epoch 23/50\n",
      "327/327 [==============================] - 3s 10ms/step - loss: 1.2058 - acc: 0.3792 - val_loss: 1.1270 - val_acc: 0.3780\n",
      "Epoch 24/50\n",
      "327/327 [==============================] - 3s 10ms/step - loss: 1.1459 - acc: 0.4404 - val_loss: 1.0635 - val_acc: 0.5366\n",
      "Epoch 25/50\n",
      "327/327 [==============================] - 3s 10ms/step - loss: 1.0903 - acc: 0.5749 - val_loss: 0.9885 - val_acc: 0.6585\n",
      "Epoch 26/50\n",
      "327/327 [==============================] - 3s 10ms/step - loss: 1.0172 - acc: 0.6208 - val_loss: 0.9060 - val_acc: 0.5854\n",
      "Epoch 27/50\n",
      "327/327 [==============================] - 3s 10ms/step - loss: 0.8983 - acc: 0.6422 - val_loss: 0.8413 - val_acc: 0.5976\n",
      "Epoch 28/50\n",
      "327/327 [==============================] - 4s 12ms/step - loss: 0.7691 - acc: 0.6911 - val_loss: 0.7615 - val_acc: 0.6463\n",
      "Epoch 29/50\n",
      "327/327 [==============================] - 4s 12ms/step - loss: 0.8433 - acc: 0.6667 - val_loss: 0.9242 - val_acc: 0.6098\n",
      "Epoch 30/50\n",
      "327/327 [==============================] - 5s 15ms/step - loss: 0.7324 - acc: 0.7248 - val_loss: 0.5479 - val_acc: 0.7805\n",
      "Epoch 31/50\n",
      "327/327 [==============================] - 5s 14ms/step - loss: 0.8251 - acc: 0.6391 - val_loss: 0.7502 - val_acc: 0.6829\n",
      "Epoch 32/50\n",
      "327/327 [==============================] - 3s 10ms/step - loss: 0.6581 - acc: 0.7339 - val_loss: 0.5748 - val_acc: 0.8537\n",
      "Epoch 33/50\n",
      "327/327 [==============================] - 3s 11ms/step - loss: 0.5778 - acc: 0.8135 - val_loss: 0.5126 - val_acc: 0.8171\n",
      "Epoch 34/50\n",
      "327/327 [==============================] - 4s 11ms/step - loss: 0.7859 - acc: 0.7034 - val_loss: 0.6534 - val_acc: 0.6951\n",
      "Epoch 35/50\n",
      "327/327 [==============================] - 4s 11ms/step - loss: 0.7928 - acc: 0.6483 - val_loss: 0.6713 - val_acc: 0.6829\n",
      "Epoch 36/50\n",
      "327/327 [==============================] - 3s 11ms/step - loss: 0.7201 - acc: 0.6606 - val_loss: 0.5911 - val_acc: 0.8171\n",
      "Epoch 37/50\n",
      "327/327 [==============================] - 3s 11ms/step - loss: 0.6587 - acc: 0.6911 - val_loss: 0.5488 - val_acc: 0.8293\n",
      "Epoch 38/50\n",
      "327/327 [==============================] - 3s 10ms/step - loss: 0.6332 - acc: 0.7187 - val_loss: 0.6983 - val_acc: 0.7317\n",
      "Epoch 39/50\n",
      "327/327 [==============================] - 3s 10ms/step - loss: 0.5355 - acc: 0.8043 - val_loss: 0.5706 - val_acc: 0.7561\n",
      "Epoch 40/50\n",
      "327/327 [==============================] - 3s 10ms/step - loss: 0.5862 - acc: 0.7584 - val_loss: 0.4773 - val_acc: 0.8537\n",
      "Epoch 41/50\n",
      "327/327 [==============================] - 3s 10ms/step - loss: 0.4787 - acc: 0.8379 - val_loss: 0.4738 - val_acc: 0.8415\n",
      "Epoch 42/50\n",
      "327/327 [==============================] - 3s 10ms/step - loss: 0.4571 - acc: 0.8135 - val_loss: 0.5693 - val_acc: 0.7683\n",
      "Epoch 43/50\n",
      "327/327 [==============================] - 3s 10ms/step - loss: 0.4996 - acc: 0.8287 - val_loss: 0.7339 - val_acc: 0.5976\n",
      "Epoch 44/50\n",
      "327/327 [==============================] - 4s 13ms/step - loss: 0.6330 - acc: 0.7401 - val_loss: 0.5757 - val_acc: 0.7195\n",
      "Epoch 45/50\n",
      "327/327 [==============================] - 3s 10ms/step - loss: 0.5201 - acc: 0.7890 - val_loss: 0.4426 - val_acc: 0.8415\n",
      "Epoch 46/50\n",
      "327/327 [==============================] - 3s 10ms/step - loss: 0.4419 - acc: 0.8196 - val_loss: 0.4045 - val_acc: 0.8537\n",
      "Epoch 47/50\n",
      "327/327 [==============================] - 4s 11ms/step - loss: 0.4806 - acc: 0.8318 - val_loss: 1.1459 - val_acc: 0.5366\n",
      "Epoch 48/50\n",
      "327/327 [==============================] - 3s 10ms/step - loss: 0.6630 - acc: 0.7125 - val_loss: 0.5026 - val_acc: 0.7317\n",
      "Epoch 49/50\n",
      "327/327 [==============================] - 3s 10ms/step - loss: 0.5033 - acc: 0.7829 - val_loss: 0.4395 - val_acc: 0.8537\n",
      "Epoch 50/50\n",
      "327/327 [==============================] - 3s 10ms/step - loss: 0.4780 - acc: 0.7859 - val_loss: 0.4012 - val_acc: 0.8537\n"
     ]
    },
    {
     "data": {
      "image/png": "[encoded data removed]",
      "text/plain": [
       "<Figure size 432x288 with 1 Axes>"
      ]
     },
     "metadata": {
      "needs_background": "light"
     },
     "output_type": "display_data"
    }
   ],
   "source": [
    "model = create_model(128, LABELS)\n",
    "\n",
    "# Load the data from uci_train_6_single.csv which is a subset of the UCI training set\n",
    "# containing only the user 25 (the user who collected more data)\n",
    "x, y = load_data(\"../data/uci_train_6_single.csv\", 128, LABELS)\n",
    "\n",
    "x_train, x_test, y_train, y_test = train_test_split(\n",
    "    x, y, test_size=0.2, random_state=np.random.randint(0, 42)\n",
    ")\n",
    "\n",
    "train(\n",
    "    model,\n",
    "    x_train,\n",
    "    y_train,\n",
    "    x_test,\n",
    "    y_test,\n",
    "    epochs=50,\n",
    "    batch_size=16\n",
    ")"
   ]
  },
  {
   "cell_type": "markdown",
   "metadata": {},
   "source": [
    "## Single user testing\n",
    "\n",
    "The data was split in (80% training, 20% testing). The model was evaluated using the testing data, yielding good results, with an accuracy higher than 90%."
   ]
  },
  {
   "cell_type": "markdown",
   "metadata": {},
   "source": [
    "## Multi user testing\n",
    "\n",
    "We will now evaluate the previously trained model against the real test data, containing other users' observations."
   ]
  },
  {
   "cell_type": "code",
   "execution_count": 4,
   "metadata": {
    "scrolled": true
   },
   "outputs": [
    {
     "name": "stdout",
     "output_type": "stream",
     "text": [
      "2947/2947 [==============================] - 0s 156us/step\n",
      "\n",
      "Test Accuracy: 0.4282320970634626\n"
     ]
    }
   ],
   "source": [
    "x_real_test, y_real_test = load_data(\"../data/uci_test_6.csv\", 128, LABELS)\n",
    "\n",
    "[_, accuracy] = model.evaluate(x_real_test, y_real_test, 512)\n",
    "\n",
    "print(f\"\\nTest Accuracy: {accuracy}\")"
   ]
  },
  {
   "cell_type": "markdown",
   "metadata": {},
   "source": [
    "### Results\n",
    "\n",
    "With a ~50% accuracy the model shows it has indeed learned something, considering that a random guess would have a (1/6 = 16.6%) accuracy, but it is very far from the ~90% accuracy of the model trained using the multiuser data."
   ]
  }
 ],
 "metadata": {
  "kernelspec": {
   "display_name": "Python 3",
   "language": "python",
   "name": "python3"
  },
  "language_info": {
   "codemirror_mode": {
    "name": "ipython",
    "version": 3
   },
   "file_extension": ".py",
   "mimetype": "text/x-python",
   "name": "python",
   "nbconvert_exporter": "python",
   "pygments_lexer": "ipython3",
   "version": "3.6.6"
  }
 },
 "nbformat": 4,
 "nbformat_minor": 2
}
